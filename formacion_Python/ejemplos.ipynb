{
 "cells": [
  {
   "cell_type": "markdown",
   "metadata": {},
   "source": [
    "Ejemplo 1:\n",
    "Un usuario introduce texto desde teclado y queremos \n",
    "averiguar si es un número entero. Si es entero lo \n",
    "añadiremos a una variable tipo lista de números \n",
    "enteros. "
   ]
  },
  {
   "cell_type": "code",
   "execution_count": null,
   "metadata": {},
   "outputs": [],
   "source": [
    "l = list()\n",
    "texto = input(\"introduce un numero entero por teclado: \")\n",
    "if texto.isnumeric():\n",
    "\tnum = int(texto)\n",
    "\tl.append(num)\n",
    "\tprint(\"Numero \" + str(num) + \" añadido a la lista\")\n",
    "else:\n",
    "\tprint(\"No has introducido un numero entero\")"
   ]
  },
  {
   "cell_type": "code",
   "execution_count": null,
   "metadata": {},
   "outputs": [],
   "source": [
    "# read python dict from a file\n",
    "pkl_file = open('myfile.pkl', 'rb')\n",
    "mydict2 = pickle.load(pkl_file)\n",
    "pkl_file.close()"
   ]
  },
  {
   "cell_type": "code",
   "execution_count": null,
   "metadata": {},
   "outputs": [],
   "source": [
    "# write python dict to a file\n",
    "mydict = {'a': 1, 'b': 2, 'c': 3}\n",
    "output = open('myfile.pkl', 'wb')\n",
    "pickle.dump(mydict, output)\n",
    "output.close()"
   ]
  },
  {
   "cell_type": "code",
   "execution_count": null,
   "metadata": {},
   "outputs": [],
   "source": [
    "# ejemmplode uso de pickle\n",
    "\n",
    "import pickle\n",
    "from pathlib import Path\n",
    "\n",
    "#Create an empty dictionary\n",
    "d = dict()\n",
    "\n",
    "#Ask for file name to load dictionary from\n",
    "file_name = input(\"Introduce el nombre del archivo con los datos: \")\n",
    "\n",
    "#Check if file exists\n",
    "path = Path(file_name)\n",
    "if path.is_file():\n",
    "\t#Open file in reading mode\n",
    "\tinput_file = open(file_name, \"rb\")\n",
    "\td = pickle.load(input_file)\n",
    "\t#Close file\n",
    "\tinput_file.close()\n",
    "else:\n",
    "\tprint(\"El archivo no existe, creamos diccionario vacio\")\n",
    "\n",
    "#Check for values or add new ones\n",
    "document_number = input(\"Introduce un documento de identidad: \")\n",
    "\n",
    "if document_number in d: #Check whether it is on dict or not\n",
    "\tprint(\"la edad de\" + document_number + \" es \"  + str(d[document_number]))\n",
    "else:\n",
    "\tage = input(\"Documento no existe, Introduce edad: \")\n",
    "\tif age.isnumeric():\n",
    "\t\tnum = int(age)\n",
    "\t\td[document_number] = num\n",
    "\t\tprint(\"Documento añadido\")\n",
    "\n",
    "# Save dict on file and close\n",
    "output_file = open(file_name, \"wb\")\n",
    "pickle.dump(d, output_file)\n",
    "output_file.close()"
   ]
  },
  {
   "cell_type": "code",
   "execution_count": null,
   "metadata": {},
   "outputs": [],
   "source": [
    "# Example of zip\n",
    "\n",
    "keys = ['nombre', 'apellidos', 'edad']\n",
    "values = ['Guido', 'Van Rossum', 60]\n",
    "d = dict(zip(keys, values))\t# make a dict from two lists\n",
    "\n",
    "for k in d:\n",
    "\tinfo = '{}: {}'.format(k, d[k]) # text formatiing whit keys and values\n",
    "\tprint(info)"
   ]
  },
  {
   "cell_type": "code",
   "execution_count": 3,
   "metadata": {},
   "outputs": [],
   "source": [
    "zen = '''\\\n",
    "... Bello es mejor que feo.\n",
    "... Explícito es mejor que implícito.\n",
    "... Simple es mejor que complejo.\n",
    "... Complejo es mejor que complicado.\n",
    "... '''\n",
    "...\n",
    "f = open('short.zen.txt', 'w')\n",
    "f.writelines(zen) # Escribe el fichero\n",
    "f.close() # Cierra el fichero"
   ]
  },
  {
   "cell_type": "code",
   "execution_count": 4,
   "metadata": {},
   "outputs": [],
   "source": [
    "f = open('short.zen.txt', 'r')\n",
    "f.readline() # Lee la primera linea\n",
    "f.readline() # Lee la segunda linea\n",
    "f.readline() # Lee la tercera linea\n",
    "f.readline() # Lee la cuarta linea\n",
    "f.readline() # Lee la quinta linea\n",
    "f.close() # Cierra el fichero"
   ]
  }
 ],
 "metadata": {
  "kernelspec": {
   "display_name": "Python 3",
   "language": "python",
   "name": "python3"
  },
  "language_info": {
   "codemirror_mode": {
    "name": "ipython",
    "version": 3
   },
   "file_extension": ".py",
   "mimetype": "text/x-python",
   "name": "python",
   "nbconvert_exporter": "python",
   "pygments_lexer": "ipython3",
   "version": "3.11.9"
  }
 },
 "nbformat": 4,
 "nbformat_minor": 2
}
